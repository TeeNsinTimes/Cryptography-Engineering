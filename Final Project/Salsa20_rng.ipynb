{
  "nbformat": 4,
  "nbformat_minor": 0,
  "metadata": {
    "colab": {
      "name": "Salsa20_rng.ipynb",
      "provenance": [],
      "collapsed_sections": []
    },
    "kernelspec": {
      "name": "python3",
      "display_name": "Python 3"
    },
    "language_info": {
      "name": "python"
    }
  },
  "cells": [
    {
      "cell_type": "code",
      "metadata": {
        "colab": {
          "base_uri": "https://localhost:8080/"
        },
        "id": "M5SY3-6QPJoI",
        "outputId": "dc5d5bb6-3b8e-416e-9f0d-1b8579d4ea34"
      },
      "source": [
        "!pip install PyCryptodome"
      ],
      "execution_count": 1,
      "outputs": [
        {
          "output_type": "stream",
          "text": [
            "Collecting PyCryptodome\n",
            "\u001b[?25l  Downloading https://files.pythonhosted.org/packages/ad/16/9627ab0493894a11c68e46000dbcc82f578c8ff06bc2980dcd016aea9bd3/pycryptodome-3.10.1-cp35-abi3-manylinux2010_x86_64.whl (1.9MB)\n",
            "\u001b[K     |████████████████████████████████| 1.9MB 2.8MB/s \n",
            "\u001b[?25hInstalling collected packages: PyCryptodome\n",
            "Successfully installed PyCryptodome-3.10.1\n"
          ],
          "name": "stdout"
        }
      ]
    },
    {
      "cell_type": "code",
      "metadata": {
        "id": "wzCGuyCacEbB"
      },
      "source": [
        "def byte_xor(ba1, ba2):\n",
        "  return bytes([_a ^ _b for _a, _b in zip(ba1, ba2)])"
      ],
      "execution_count": 2,
      "outputs": []
    },
    {
      "cell_type": "code",
      "metadata": {
        "id": "qnpBlA4fO4pY"
      },
      "source": [
        "from Crypto.Cipher import Salsa20\n",
        "import os\n",
        "\n",
        "sz = int(512000*33)\n",
        "plaintext = b'A'*sz\n",
        "secret = os.urandom(32)\n",
        "cipher = Salsa20.new(key=secret)\n",
        "ciphertext = cipher.encrypt(plaintext)\n",
        "\n",
        "with open('Salsa20.bin', 'w+b') as file:\n",
        "  bytestreams = byte_xor(ciphertext, plaintext)\n",
        "  file.write(bytes(bytestreams))"
      ],
      "execution_count": 3,
      "outputs": []
    },
    {
      "cell_type": "code",
      "metadata": {
        "id": "r8_ACCpWPcX5",
        "colab": {
          "base_uri": "https://localhost:8080/"
        },
        "outputId": "824de751-439f-44c8-891a-9b78750df24b"
      },
      "source": [
        "!hexdump -C Salsa20.bin | head"
      ],
      "execution_count": 5,
      "outputs": [
        {
          "output_type": "stream",
          "text": [
            "00000000  03 94 cf ec ff d5 8d 6d  24 05 68 38 26 bb 3b df  |.......m$.h8&.;.|\n",
            "00000010  8b 97 15 ad b8 74 37 66  db f8 03 b5 22 9f 04 ec  |.....t7f....\"...|\n",
            "00000020  60 49 73 ed 5a 38 ce e7  54 63 df 90 4f 25 01 b8  |`Is.Z8..Tc..O%..|\n",
            "00000030  bd e5 09 95 3e d9 b4 d0  76 68 05 59 3d 74 80 78  |....>...vh.Y=t.x|\n",
            "00000040  3b ec 4d 3e 46 ab 4a 80  43 69 ec 2b 44 13 98 66  |;.M>F.J.Ci.+D..f|\n",
            "00000050  46 15 0e 1c 2e a6 5f 40  21 82 9c c7 83 56 5d ae  |F....._@!....V].|\n",
            "00000060  90 5b 1a 9e 1f 2c f8 79  5d 1a 9d 5f 85 ca 16 6a  |.[...,.y].._...j|\n",
            "00000070  c6 64 52 84 1a d3 06 b2  46 78 12 10 53 44 0a 7e  |.dR.....Fx..SD.~|\n",
            "00000080  d3 e1 f6 ac 4d 0b a1 11  9d 6b c9 90 4f ae 91 a2  |....M....k..O...|\n",
            "00000090  3e 51 b7 3c 9e e9 52 bb  8a 0a 05 2e 2e 8b 34 e4  |>Q.<..R.......4.|\n"
          ],
          "name": "stdout"
        }
      ]
    }
  ]
}